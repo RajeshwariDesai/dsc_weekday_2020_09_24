{
 "cells": [
  {
   "cell_type": "code",
   "execution_count": 1,
   "metadata": {},
   "outputs": [
    {
     "name": "stdout",
     "output_type": "stream",
     "text": [
      "enter temperature in fahrenheit:65\n",
      "temperature in celsius:  18.333333333333332\n"
     ]
    }
   ],
   "source": [
    "# 1. 1. Input temperature in Fahrenheit in print in Celsius.\n",
    "\n",
    "F=int(input(\"enter temperature in fahrenheit:\"))\n",
    "C=(F-32)/1.8\n",
    "print(\"temperature in celsius: \", C)"
   ]
  },
  {
   "cell_type": "code",
   "execution_count": 2,
   "metadata": {},
   "outputs": [
    {
     "name": "stdout",
     "output_type": "stream",
     "text": [
      "enter a number:6\n",
      "square of a number=  36 cube:  216\n"
     ]
    }
   ],
   "source": [
    "# 2. Write a program to input a number and print its square and cube.\n",
    "\n",
    "a=int(input(\"enter a number:\"))\n",
    "print(\"square of a number= \", a*a, \"cube: \", a*a*a)"
   ]
  },
  {
   "cell_type": "code",
   "execution_count": 9,
   "metadata": {},
   "outputs": [
    {
     "name": "stdout",
     "output_type": "stream",
     "text": [
      "enter a number:7\n",
      "enter a number:8\n",
      "Result:  113\n"
     ]
    }
   ],
   "source": [
    "# 3. WAP to input a number n and a number m and print the result of following --n sq + m sq\n",
    "\n",
    "m=int(input(\"enter a number:\"))\n",
    "n=int(input(\"enter a number:\"))\n",
    "result=pow(m,2)+pow(n,2)\n",
    "print(\"Result: \", result)"
   ]
  },
  {
   "cell_type": "code",
   "execution_count": 14,
   "metadata": {},
   "outputs": [
    {
     "name": "stdout",
     "output_type": "stream",
     "text": [
      "enter a number:4\n",
      "enter a number:2\n",
      "result:  16\n",
      "result:  16\n"
     ]
    }
   ],
   "source": [
    "# 4. WAP to input a numbers M and N and print result of M to the power of N. (use both ** and pow)\n",
    "\n",
    "M=int(input(\"enter a number:\"))\n",
    "N=int(input(\"enter a number:\"))\n",
    "O=M**N\n",
    "print(\"result: \",O)\n",
    "print(\"result: \", pow(M,N))"
   ]
  },
  {
   "cell_type": "code",
   "execution_count": 15,
   "metadata": {},
   "outputs": [
    {
     "name": "stdout",
     "output_type": "stream",
     "text": [
      "enter a number:8\n",
      "enter a number:2\n",
      "addition:  10 Sub:  6 Multi:  16 Div:  4.0\n"
     ]
    }
   ],
   "source": [
    "# 5. Write a simple interest calculator.\n",
    "\n",
    "X=int(input(\"enter a number:\"))\n",
    "Y=int(input(\"enter a number:\"))\n",
    "Z=X+Y\n",
    "W=X-Y\n",
    "U=X*Y\n",
    "V=X/Y\n",
    "print(\"addition: \", Z, \"Sub: \", W, \"Multi: \", U, \"Div: \", V)\n"
   ]
  },
  {
   "cell_type": "code",
   "execution_count": 16,
   "metadata": {},
   "outputs": [
    {
     "name": "stdout",
     "output_type": "stream",
     "text": [
      "Enter Principal: 45\n",
      "Enter Rate: 5\n",
      "Enter Time: 7\n",
      "Amount: 60.75\n"
     ]
    }
   ],
   "source": [
    "# 6. Input Principal, Rate, Time and print Compound Interest and Amount.\n",
    "\n",
    "P=int(input(\"Enter Principal: \"))\n",
    "R=int(input(\"Enter Rate: \"))\n",
    "T=int(input(\"Enter Time: \"))\n",
    "#CI=\n",
    "Amount=P+((P*R*T)/100)\n",
    "print(\"Amount:\", Amount)"
   ]
  },
  {
   "cell_type": "code",
   "execution_count": 20,
   "metadata": {},
   "outputs": [
    {
     "name": "stdout",
     "output_type": "stream",
     "text": [
      "enter a number:4\n",
      "sum of first n natural numbers:  10.0\n"
     ]
    }
   ],
   "source": [
    "# 7. WAP to print sum of first n natural numbers. (n needs to be taken as input).\n",
    "\n",
    "n=int(input(\"enter a number:\"))\n",
    "m=n*(n+1)/2\n",
    "print(\"sum of first n natural numbers: \", m)"
   ]
  },
  {
   "cell_type": "code",
   "execution_count": 2,
   "metadata": {},
   "outputs": [
    {
     "name": "stdout",
     "output_type": "stream",
     "text": [
      "enter a 1st number:4\n",
      "enter a 2nd number:5\n",
      "After swapping: \n",
      " 1st number: 5 \n",
      " 2nd number: 4\n"
     ]
    }
   ],
   "source": [
    "# 8. WAP to input 2 numbers and swap them. (write using both normal logic with temp variable and also the pythonic way).\n",
    "\n",
    "m=int(input(\"enter a 1st number:\"))   \n",
    "n=int(input(\"enter a 2nd number:\"))\n",
    "# o=m\n",
    "# m=n\n",
    "# n=o\n",
    "# print(\"swapped variable= \", m , n)\n",
    "\n",
    "# Pythonic way\n",
    "\n",
    "m, n = n, m\n",
    "print(\"After swapping:\", '\\n', \"1st number:\", m, '\\n', \"2nd number:\", n)\n"
   ]
  },
  {
   "cell_type": "code",
   "execution_count": 13,
   "metadata": {},
   "outputs": [
    {
     "name": "stdout",
     "output_type": "stream",
     "text": [
      "ASCII value of all white-space characters present in python are as follows: \n",
      "space : 32 \n",
      "tab : 9 \n",
      "carriage return : 13 \n",
      "newline : 10 \n",
      "vertical tab : 11 \n",
      "formfeed : 12\n"
     ]
    }
   ],
   "source": [
    "# 9. WAP to print ascii value of all white-space characters present in python.\n",
    "\n",
    "#In ASCII, whitespace characters are space ( ' ' ), tab ( '\\t' ), carriage return ( '\\r' ), newline ( '\\n' ), \n",
    "#vertical tab ( '\\v' ) and formfeed ( '\\f' ).\n",
    "\n",
    "print(\"ASCII value of all white-space characters present in python are as follows: \")\n",
    "print(\"space :\", ord(\" \"),\"\\ntab :\", ord('\\t'), \"\\ncarriage return :\", ord('\\r'), \\\n",
    "    \"\\nnewline :\", ord('\\n'), \"\\nvertical tab :\", ord('\\v'), \"\\nformfeed :\", ord('\\f'))"
   ]
  },
  {
   "cell_type": "code",
   "execution_count": 35,
   "metadata": {},
   "outputs": [
    {
     "name": "stdout",
     "output_type": "stream",
     "text": [
      "enter a value:a\n",
      "<class 'str'>\n",
      "ASCII value:  97\n",
      "97\n"
     ]
    }
   ],
   "source": [
    "# 10. Input a single character and print its ascii values.\n",
    "\n",
    "v=input(\"enter a value:\")\n",
    "print(type(v))\n",
    "print(\"ASCII value: \", ord(v))\n",
    "print(ord(v))"
   ]
  },
  {
   "cell_type": "code",
   "execution_count": 40,
   "metadata": {},
   "outputs": [
    {
     "name": "stdout",
     "output_type": "stream",
     "text": [
      "enter area of circle:6.28\n",
      "radius:  1.413855043925722 \n",
      "circumference:  8.883513238475846\n"
     ]
    }
   ],
   "source": [
    "# 11. WAP that takes area of a circle and gives back the radius and circumference.\n",
    "\n",
    "import math\n",
    "area=float(input(\"enter area of circle:\"))\n",
    "r=math.sqrt(area/math.pi)\n",
    "c=2*math.pi*r\n",
    "print(\"radius: \", r, \"\\ncircumference: \", c)\n"
   ]
  },
  {
   "cell_type": "code",
   "execution_count": 42,
   "metadata": {},
   "outputs": [
    {
     "name": "stdout",
     "output_type": "stream",
     "text": [
      "enter marks out of 100\n",
      "enter marks of 1st subject: 95\n",
      "enter marks of 2nd subject: 92\n",
      "enter marks of 3rd subject: 65\n",
      "enter marks of 4th subject: 89\n",
      "enter marks of 5th subject: 85\n",
      "85.2 %\n"
     ]
    }
   ],
   "source": [
    "# 12. We need to input marks in 5 subjects out of 100 and print percentage.\n",
    "\n",
    "print(\"enter marks out of 100\")\n",
    "a=int(input(\"enter marks of 1st subject: \"))\n",
    "b=int(input(\"enter marks of 2nd subject: \"))\n",
    "c=int(input(\"enter marks of 3rd subject: \"))\n",
    "d=int(input(\"enter marks of 4th subject: \"))\n",
    "e=int(input(\"enter marks of 5th subject: \"))\n",
    "percentage=((a+b+c+d+e)/5)\n",
    "print(percentage, \"%\")"
   ]
  },
  {
   "cell_type": "code",
   "execution_count": null,
   "metadata": {},
   "outputs": [],
   "source": []
  }
 ],
 "metadata": {
  "kernelspec": {
   "display_name": "Python 3",
   "language": "python",
   "name": "python3"
  },
  "language_info": {
   "codemirror_mode": {
    "name": "ipython",
    "version": 3
   },
   "file_extension": ".py",
   "mimetype": "text/x-python",
   "name": "python",
   "nbconvert_exporter": "python",
   "pygments_lexer": "ipython3",
   "version": "3.8.3"
  }
 },
 "nbformat": 4,
 "nbformat_minor": 4
}
