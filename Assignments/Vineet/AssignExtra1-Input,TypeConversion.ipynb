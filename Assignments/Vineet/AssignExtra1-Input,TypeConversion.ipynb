{
 "cells": [
  {
   "cell_type": "code",
   "execution_count": 4,
   "metadata": {},
   "outputs": [
    {
     "name": "stdout",
     "output_type": "stream",
     "text": [
      " Please Enter any numeric Value : 5\n",
      "The Square of a Given Number 5.0  = 25.0\n",
      "The Cube of a Given Number5.0 is 125.0\n"
     ]
    }
   ],
   "source": [
    "#Write a program to input a number and print its square and cube\n",
    "\n",
    "number = float(input(\" Please Enter any numeric Value : \"))\n",
    "\n",
    "square = number * number\n",
    "cube  = number * number * number\n",
    "print(\"The Square of a Given Number {0}  = {1}\".format(number, square))\n",
    "print(\"The Cube of a Given Number{0} is {1}\".format(number, cube))\n"
   ]
  },
  {
   "cell_type": "code",
   "execution_count": 1,
   "metadata": {},
   "outputs": [
    {
     "name": "stdout",
     "output_type": "stream",
     "text": [
      "Input temperature in Fahrenheit :  3\n",
      "Temperature in celsius:  -16.11111111111111\n"
     ]
    }
   ],
   "source": [
    "#Input temperature in Fahrenheit and  print in Celsius.\n",
    "\n",
    "temperature =int(input(\"Input temperature in Fahrenheit :  \"))\n",
    "celsius = (temperature - 32) * 5 / 9\n",
    "print(\"Temperature in celsius: \" , celsius)"
   ]
  },
  {
   "cell_type": "markdown",
   "metadata": {},
   "source": []
  },
  {
   "cell_type": "markdown",
   "metadata": {},
   "source": [
    "\n"
   ]
  },
  {
   "cell_type": "code",
   "execution_count": 7,
   "metadata": {},
   "outputs": [
    {
     "name": "stdout",
     "output_type": "stream",
     "text": [
      "Input number n :2\n",
      "Input number m :2\n",
      "n2 + m2 = 8\n"
     ]
    }
   ],
   "source": [
    "#WAP to input a number n and a number m and print the result of following n2 + m2\n",
    "n = int(input(\"Input number n :\"))\n",
    "m = int(input(\"Input number m :\"))\n",
    "result = n**2 + m**2\n",
    "print(\"n2 + m2 =\" , result)"
   ]
  },
  {
   "cell_type": "code",
   "execution_count": 9,
   "metadata": {},
   "outputs": [
    {
     "name": "stdout",
     "output_type": "stream",
     "text": [
      "Input number n :3\n",
      "Input number m :2\n",
      "m^n = 8\n",
      "pow(m,n) = 8\n"
     ]
    }
   ],
   "source": [
    "#WAP to input a numbers M and N and print result of MN. (use both ** and pow)\n",
    "n = int(input(\"Input number n :\"))\n",
    "m = int(input(\"Input number m :\"))\n",
    "result = m**n\n",
    "print(\"m^n =\" , result)\n",
    "result = pow(m,n)\n",
    "print(\"pow(m,n) =\" , result)"
   ]
  },
  {
   "cell_type": "code",
   "execution_count": 10,
   "metadata": {},
   "outputs": [
    {
     "name": "stdout",
     "output_type": "stream",
     "text": [
      "Enter the principal amount : 200\n",
      "Enter the number of years : 10\n",
      "Enter the rate of interest : 10\n",
      "Simple interest : 200.0\n"
     ]
    }
   ],
   "source": [
    "#Write a simple interest calculator.\n",
    "P = float(input(\"Enter the principal amount : \"))\n",
    "N = float(input(\"Enter the number of years : \"))\n",
    "R = float(input(\"Enter the rate of interest : \"))\n",
    "SI = (P * N * R)/100\n",
    "print(\"Simple interest : {}\".format(SI))"
   ]
  },
  {
   "cell_type": "code",
   "execution_count": 11,
   "metadata": {},
   "outputs": [
    {
     "name": "stdout",
     "output_type": "stream",
     "text": [
      "Enter the principal amount : 100\n",
      "Enter the number of years : 10\n",
      "Enter the rate of interest : 10\n",
      "Compound interest is 159.3742460100002\n"
     ]
    }
   ],
   "source": [
    "#Input Principal, Rate, Time and print Compound Interest and Amount.\n",
    "principle = float(input(\"Enter the principal amount : \"))\n",
    "time = float(input(\"Enter the number of years : \"))\n",
    "rate = float(input(\"Enter the rate of interest : \"))\n",
    "Amount = principle * (pow((1 + rate / 100), time)) \n",
    "CI = Amount - principle \n",
    "print(\"Compound interest is\", CI) "
   ]
  },
  {
   "cell_type": "code",
   "execution_count": 16,
   "metadata": {},
   "outputs": [
    {
     "name": "stdout",
     "output_type": "stream",
     "text": [
      "Please Enter any natural Value : 5\n",
      "SUM of first  3 numbers is:  15\n"
     ]
    }
   ],
   "source": [
    "#WAP to print sum of first n natural numbers. (n needs to be taken as input).\n",
    "number = int(input(\"Please Enter any natural Value : \"))\n",
    "sum = 0\n",
    "\n",
    "for number in range(0, number+1, 1):\n",
    "    sum = sum+number\n",
    "print(\"SUM of first \", n, \"numbers is: \", sum )"
   ]
  },
  {
   "cell_type": "code",
   "execution_count": 18,
   "metadata": {},
   "outputs": [
    {
     "name": "stdout",
     "output_type": "stream",
     "text": [
      "Enter First Number: 12\n",
      "Enter Second Number: 12\n",
      "Value of num1 before swapping:  12\n",
      "Value of num2 before swapping:  12\n",
      "Value of num1 after swapping:  12\n",
      "Value of num2 after swapping:  12\n",
      "Enter First Number: 13\n",
      "Enter Second Number: 14\n",
      "Value of num1 before swapping:  13\n",
      "Value of num2 before swapping:  14\n",
      "swapping two numbers without using temporary variable\n",
      "Value of num1 after swapping:  14\n",
      "Value of num2 after swapping:  13\n"
     ]
    }
   ],
   "source": [
    "#WAP to input 2 numbers and swap them. (write using both normal logic with temp variable and also the pythonic way).\n",
    "num1 = input('Enter First Number: ')\n",
    "num2 = input('Enter Second Number: ')\n",
    "\n",
    "print(\"Value of num1 before swapping: \", num1)\n",
    "print(\"Value of num2 before swapping: \", num2)\n",
    "\n",
    "# swapping two numbers using temporary variable\n",
    "temp = num1\n",
    "num1 = num2\n",
    "num2 = temp\n",
    "\n",
    "print(\"Value of num1 after swapping: \", num1)\n",
    "print(\"Value of num2 after swapping: \", num2)\n",
    "\n",
    "num1 = input('Enter First Number: ')\n",
    "num2 = input('Enter Second Number: ')\n",
    "print(\"Value of num1 before swapping: \", num1)\n",
    "print(\"Value of num2 before swapping: \", num2)\n",
    "\n",
    "print(\"swapping two numbers without using temporary variable\")\n",
    "num1, num2 = num2, num1\n",
    "\n",
    "print(\"Value of num1 after swapping: \", num1)\n",
    "print(\"Value of num2 after swapping: \", num2)\n",
    "\n"
   ]
  },
  {
   "cell_type": "code",
   "execution_count": 3,
   "metadata": {},
   "outputs": [
    {
     "name": "stdout",
     "output_type": "stream",
     "text": [
      "Enter any charater: g\n",
      "The ASCII value of 'g' is 103\n"
     ]
    }
   ],
   "source": [
    "#WAP to print ascii value of all white-space characters present in python.\n",
    "\n",
    "#Input a single character and print its ascii values.\n",
    "input  = input('Enter any charater: ')\n",
    "# print the ASCII value of assigned character in c \n",
    "print(\"The ASCII value of '\" + input + \"' is\", ord(input))\n"
   ]
  },
  {
   "cell_type": "code",
   "execution_count": 1,
   "metadata": {},
   "outputs": [
    {
     "name": "stdout",
     "output_type": "stream",
     "text": [
      " Please Enter the radius of a circle: 34\n",
      " Area Of a Circle = 3629.84\n",
      " Circumference Of a Circle = 213.52\n"
     ]
    }
   ],
   "source": [
    "#WAP that takes area of a circle and gives back the radius and circumference. \n",
    "PI = 3.14\n",
    "radius = float(input(' Please Enter the radius of a circle: '))\n",
    "area = PI * radius * radius\n",
    "circumference = 2 * PI * radius\n",
    "\n",
    "print(\" Area Of a Circle = %.2f\" %area)\n",
    "print(\" Circumference Of a Circle = %.2f\" %circumference)\n"
   ]
  },
  {
   "cell_type": "markdown",
   "metadata": {},
   "source": []
  },
  {
   "cell_type": "code",
   "execution_count": 2,
   "metadata": {},
   "outputs": [
    {
     "name": "stdout",
     "output_type": "stream",
     "text": [
      "Please enter English Marks: 2\n",
      "Please enter Math score: 2\n",
      "Please enter Computer Marks: 3\n",
      "Please enter Physics Marks: 4\n",
      "Please enter Chemistry Marks: 5\n",
      "\n",
      "Total Marks = 16.00\n",
      "Average Marks = 3.20\n",
      "Marks Percentage = 3.20\n"
     ]
    }
   ],
   "source": [
    "#We need to input marks in 5 subjects out of 100 and print percentage.\n",
    "english = float(input(\"Please enter English Marks: \"))\n",
    "math = float(input(\"Please enter Math score: \"))\n",
    "computers = float(input(\"Please enter Computer Marks: \"))\n",
    "physics = float(input(\"Please enter Physics Marks: \"))\n",
    "chemistry = float(input(\"Please enter Chemistry Marks: \"))\n",
    "\n",
    "total = english + math + computers + physics + chemistry\n",
    "average = total / 5\n",
    "percentage = (total / 500) * 100\n",
    "\n",
    "print(\"\\nTotal Marks = %.2f\"  %total)\n",
    "print(\"Average Marks = %.2f\"  %average)\n",
    "print(\"Marks Percentage = %.2f\"  %percentage)"
   ]
  },
  {
   "cell_type": "code",
   "execution_count": null,
   "metadata": {},
   "outputs": [],
   "source": []
  },
  {
   "cell_type": "code",
   "execution_count": null,
   "metadata": {},
   "outputs": [],
   "source": []
  }
 ],
 "metadata": {
  "kernelspec": {
   "display_name": "Python 3",
   "language": "python",
   "name": "python3"
  },
  "language_info": {
   "codemirror_mode": {
    "name": "ipython",
    "version": 3
   },
   "file_extension": ".py",
   "mimetype": "text/x-python",
   "name": "python",
   "nbconvert_exporter": "python",
   "pygments_lexer": "ipython3",
   "version": "3.8.3"
  }
 },
 "nbformat": 4,
 "nbformat_minor": 4
}
