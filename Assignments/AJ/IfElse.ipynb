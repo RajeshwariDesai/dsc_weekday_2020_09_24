{
 "cells": [
  {
   "cell_type": "code",
   "execution_count": 4,
   "metadata": {},
   "outputs": [
    {
     "name": "stdout",
     "output_type": "stream",
     "text": [
      "Enter first number: 5\n",
      "Enter Second number: 3\n",
      "False\n"
     ]
    }
   ],
   "source": [
    "num1= int(input(\"Enter first number: \"))\n",
    "num2= int(input(\"Enter Second number: \"))\n",
    "res=False\n",
    "\n",
    "if num1%num2==0:\n",
    "    res=True\n",
    "    \n",
    "\n",
    "print(res)\n",
    "    "
   ]
  },
  {
   "cell_type": "code",
   "execution_count": 18,
   "metadata": {},
   "outputs": [
    {
     "name": "stdout",
     "output_type": "stream",
     "text": [
      "Ener String to check Palindrome: Mom\n",
      "mom 'Hurray its Palindrome'\n"
     ]
    }
   ],
   "source": [
    "userip=input(\"Ener String to check Palindrome: \").lower()\n",
    "\n",
    "if userip[0::]==userip[::-1]:\n",
    "    print(f\"{userip} 'Hurray its Palindrome'\")\n",
    "else:\n",
    "    print(f\"{userip} 'is not a palindrome'\")\n"
   ]
  },
  {
   "cell_type": "code",
   "execution_count": 26,
   "metadata": {},
   "outputs": [
    {
     "name": "stdout",
     "output_type": "stream",
     "text": [
      "Enter Length of side1 of a triangle 45\n",
      "Enter Length of side2 of a triangle 45\n",
      "Enter Length of side3 of a triangle 33\n",
      "isosceles\n"
     ]
    }
   ],
   "source": [
    "side1 = int(input(\"Enter Length of side1 of a triangle \"))\n",
    "side2 = int(input(\"Enter Length of side2 of a triangle \"))\n",
    "side3 = int(input(\"Enter Length of side3 of a triangle \"))\n",
    "\n",
    "Triangle =\"scalene\"\n",
    "\n",
    "if side1==side2 and side2==side3:\n",
    "    Triangle=\"equilateral\"\n",
    "elif side1==side2 or side2==side3 or side1==side3:\n",
    "    Triangle=\"isosceles\"\n",
    "    \n",
    "print(Triangle)\n",
    "    \n",
    "        \n",
    "    "
   ]
  },
  {
   "cell_type": "code",
   "execution_count": null,
   "metadata": {},
   "outputs": [],
   "source": []
  }
 ],
 "metadata": {
  "kernelspec": {
   "display_name": "Python 3",
   "language": "python",
   "name": "python3"
  },
  "language_info": {
   "codemirror_mode": {
    "name": "ipython",
    "version": 3
   },
   "file_extension": ".py",
   "mimetype": "text/x-python",
   "name": "python",
   "nbconvert_exporter": "python",
   "pygments_lexer": "ipython3",
   "version": "3.8.3"
  }
 },
 "nbformat": 4,
 "nbformat_minor": 4
}
