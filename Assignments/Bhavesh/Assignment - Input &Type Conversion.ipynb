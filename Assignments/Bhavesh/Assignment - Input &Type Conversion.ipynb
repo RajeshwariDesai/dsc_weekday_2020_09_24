{
 "cells": [
  {
   "cell_type": "code",
   "execution_count": 6,
   "metadata": {},
   "outputs": [
    {
     "name": "stdout",
     "output_type": "stream",
     "text": [
      "Please enter temperature in Fahrenheit: 65\n",
      "65.0 Fahrenheit = 18.333333333333332 Celsius\n"
     ]
    }
   ],
   "source": [
    "# (1) Input temperature in Fahrenheit in print in Celsius.\n",
    "f_temp = float(input(\"Please enter temperature in Fahrenheit: \"))\n",
    "c_temp = (f_temp - 32) * 5/9\n",
    "\n",
    "print(f\"{f_temp} Fahrenheit = {c_temp} Celsius\")"
   ]
  },
  {
   "cell_type": "code",
   "execution_count": 9,
   "metadata": {},
   "outputs": [
    {
     "name": "stdout",
     "output_type": "stream",
     "text": [
      "Please enter a number: 3\n",
      "9 is square of 3\n",
      "27 is cube of 3\n"
     ]
    }
   ],
   "source": [
    "# (2) Write a program to input a number and print its square and cube.\n",
    "getNumber = input(\"Please enter a number: \")\n",
    "square = int(getNumber) ** 2\n",
    "cube = int(getNumber) ** 3\n",
    "\n",
    "print(f\"{square} is square of {getNumber}\")\n",
    "print(f\"{cube} is cube of {getNumber}\")"
   ]
  },
  {
   "cell_type": "code",
   "execution_count": 17,
   "metadata": {},
   "outputs": [
    {
     "name": "stdout",
     "output_type": "stream",
     "text": [
      "Please enter value for n: 4\n",
      "Please enter value for m: 5\n",
      "Result is: 41\n"
     ]
    }
   ],
   "source": [
    "# (3) WAP to input a number n and a number m and print the result of following \n",
    "n = input(\"Please enter value for n: \")\n",
    "m = input(\"Please enter value for m: \")\n",
    "\n",
    "result = (int(n) ** 2) + (int(m) ** 2)\n",
    "print(\"Result is:\", result)"
   ]
  },
  {
   "cell_type": "code",
   "execution_count": 18,
   "metadata": {},
   "outputs": [
    {
     "name": "stdout",
     "output_type": "stream",
     "text": [
      "Please enter value for N: 3\n",
      "Please enter value for M: 4\n",
      "Result is: 81\n",
      "Result using pow is: 81\n"
     ]
    }
   ],
   "source": [
    "# (4) WAP to input a numbers M and N and print result of MN. (use both ** and pow)\n",
    "N = input(\"Please enter value for N: \")\n",
    "M = input(\"Please enter value for M: \")\n",
    "\n",
    "result = int(N) ** int(M)\n",
    "result_pow = pow(int(N), int(M))\n",
    "print(\"Result is:\", result)\n",
    "print(\"Result using pow is:\", result_pow)"
   ]
  },
  {
   "cell_type": "code",
   "execution_count": 27,
   "metadata": {},
   "outputs": [
    {
     "name": "stdout",
     "output_type": "stream",
     "text": [
      "Please enter principal amount: 12000\n",
      "Please enter rate of interest: 7.80\n",
      "Please enter time period: 12\n",
      "Simple Interest is: 11232.0\n"
     ]
    }
   ],
   "source": [
    "# (5) Write a simple interest calculator\n",
    "\n",
    "principal_amount = input(\"Please enter principal amount: \")\n",
    "interest = input(\"Please enter rate of interest: \")\n",
    "period = input(\"Please enter time period: \")\n",
    "\n",
    "simple_interest = (int(principal_amount) * float(interest) * int(period)) / 100\n",
    "\n",
    "print('Simple Interest is:', simple_interest)"
   ]
  },
  {
   "cell_type": "code",
   "execution_count": 31,
   "metadata": {},
   "outputs": [
    {
     "name": "stdout",
     "output_type": "stream",
     "text": [
      "Please enter principal amount: 25000\n",
      "Please enter rate of interest: 9.50\n",
      "Please enter time period: 8\n",
      "Compound Interest is: 26671.72522379946\n",
      "Amount is: 51671.72522379946\n"
     ]
    }
   ],
   "source": [
    "# (6) Input Principal, Rate, Time and print Compound Interest and Amount.\n",
    "\n",
    "principal_amount = input(\"Please enter principal amount: \")\n",
    "interest = input(\"Please enter rate of interest: \")\n",
    "period = input(\"Please enter time period: \")\n",
    "\n",
    "amount = int(principal_amount) * (pow((1 + float(interest) / 100), int(period))) \n",
    "compound_interest = amount - int(principal_amount) \n",
    "\n",
    "print('Compound Interest is:', compound_interest)\n",
    "print('Amount is:', amount)"
   ]
  },
  {
   "cell_type": "code",
   "execution_count": 35,
   "metadata": {},
   "outputs": [
    {
     "name": "stdout",
     "output_type": "stream",
     "text": [
      "Please enter a number: 15\n",
      "Sum of first 15 natural numbers is: 120\n"
     ]
    }
   ],
   "source": [
    "# (7) WAP to print sum of first n natural numbers. (n needs to be taken as input).\n",
    "\n",
    "n = int(input(\"Please enter a number: \"))\n",
    "\n",
    "total = 0\n",
    "for num in range(1, n+1):\n",
    "    total += num\n",
    "    \n",
    "print(f\"Sum of first {n} natural numbers is:\", total)"
   ]
  },
  {
   "cell_type": "code",
   "execution_count": 38,
   "metadata": {},
   "outputs": [
    {
     "name": "stdout",
     "output_type": "stream",
     "text": [
      "Please enter number a: 5\n",
      "Please enter number b: 8\n",
      "Using temp variable a is: 8  And b is: 5\n",
      "Pythonic way variable a is: 5  And b is: 8\n"
     ]
    }
   ],
   "source": [
    "# (8) WAP to input 2 numbers and swap them. (write using both normal logic with temp variable and also the pythonic way)\n",
    "\n",
    "a = int(input(\"Please enter number a: \"))\n",
    "b = int(input(\"Please enter number b: \"))\n",
    "\n",
    "temp = a\n",
    "a = b\n",
    "b = temp\n",
    "\n",
    "print(\"Using temp variable a is:\", a, \" And b is:\", b)\n",
    "\n",
    "a, b = b, a\n",
    "\n",
    "print(\"Swap again using Pythonic way variable a is:\", a, \" And b is:\", b)"
   ]
  },
  {
   "cell_type": "code",
   "execution_count": 43,
   "metadata": {},
   "outputs": [
    {
     "name": "stdout",
     "output_type": "stream",
     "text": [
      "ASCII of white space char is: 32\n"
     ]
    }
   ],
   "source": [
    "# (9) WAP to print ascii value of all white-space characters present in python.\n",
    "\n",
    "print(\"ASCII value of white space char is:\", ord(' '))"
   ]
  },
  {
   "cell_type": "code",
   "execution_count": 46,
   "metadata": {},
   "outputs": [
    {
     "name": "stdout",
     "output_type": "stream",
     "text": [
      "Please enter a character: x\n",
      "ASCII value of x  is: 120\n"
     ]
    }
   ],
   "source": [
    "# (10) Input a single character and print its ascii values. \n",
    "\n",
    "char = input(\"Please enter a character: \")\n",
    "\n",
    "print(\"ASCII value of\", char, \" is:\", ord(char))"
   ]
  },
  {
   "cell_type": "code",
   "execution_count": 47,
   "metadata": {},
   "outputs": [
    {
     "name": "stdout",
     "output_type": "stream",
     "text": [
      "Please Enter the radius of a circle: 5\n",
      "Area of a circle is: 78.5\n",
      "Circumference of a circle: 31.400000000000002\n"
     ]
    }
   ],
   "source": [
    "# (11) WAP that takes area of a circle and gives back the radius and circumference. \n",
    "\n",
    "get_radius = float(input('Please Enter the radius of a circle: '))\n",
    "\n",
    "area = 3.14 * get_radius * get_radius\n",
    "circumference = 2 * 3.14 * get_radius\n",
    "\n",
    "print(\"Area of a circle is:\", area)\n",
    "print(\"Circumference of a circle:\", circumference)"
   ]
  },
  {
   "cell_type": "code",
   "execution_count": 48,
   "metadata": {},
   "outputs": [
    {
     "name": "stdout",
     "output_type": "stream",
     "text": [
      "Please Enter mark of subject 1: 90\n",
      "Please Enter mark of subject 2: 80\n",
      "Please Enter mark of subject 3: 90\n",
      "Please Enter mark of subject 4: 70\n",
      "Please Enter mark of subject 5: 100\n",
      "Percentage is: 86.0%\n"
     ]
    }
   ],
   "source": [
    "# (12) We need to input marks in 5 subjects out of 100 and print percentage. \n",
    "\n",
    "total = 0\n",
    "for item in range(1, 6):\n",
    "    total += int(input(f'Please Enter mark of subject {item}: '))\n",
    "    \n",
    "percentage = (100 * total) / 500\n",
    "\n",
    "print(f\"Percentage is: {percentage}%\")\n"
   ]
  }
 ],
 "metadata": {
  "kernelspec": {
   "display_name": "Python 3",
   "language": "python",
   "name": "python3"
  },
  "language_info": {
   "codemirror_mode": {
    "name": "ipython",
    "version": 3
   },
   "file_extension": ".py",
   "mimetype": "text/x-python",
   "name": "python",
   "nbconvert_exporter": "python",
   "pygments_lexer": "ipython3",
   "version": "3.7.6"
  }
 },
 "nbformat": 4,
 "nbformat_minor": 4
}
